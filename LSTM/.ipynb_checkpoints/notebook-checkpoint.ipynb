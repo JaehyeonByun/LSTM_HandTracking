{
 "cells": [
  {
   "cell_type": "markdown",
   "metadata": {},
   "source": [
    "# Code Templates: LSTM Prediction Model\n",
    "2024-2 SWCON314"
   ]
  },
  {
   "cell_type": "code",
   "execution_count": 62,
   "metadata": {},
   "outputs": [],
   "source": [
    "import numpy as np\n",
    "import pandas as pd\n",
    "from sklearn.model_selection import train_test_split\n",
    "\n",
    "import torch\n",
    "import torch.nn as nn\n",
    "import torch.optim as optim\n",
    "from torch.optim.lr_scheduler import StepLR\n",
    "\n",
    "from torch.utils.data import DataLoader, TensorDataset, ConcatDataset\n",
    "\n",
    "import glob\n",
    "from tqdm import tqdm\n",
    "\n",
    "from LSTMModel import LSTMModel"
   ]
  },
  {
   "cell_type": "code",
   "execution_count": 63,
   "metadata": {},
   "outputs": [
    {
     "name": "stdout",
     "output_type": "stream",
     "text": [
      "data\\free\\free1\\2_rear.csv\n",
      "data\\free\\free1\\4_rear.csv\n",
      "data\\free\\free1\\6_rear.csv\n",
      "data\\free\\free2\\2_rear.csv\n",
      "data\\free\\free2\\4_rear.csv\n",
      "data\\free\\free3\\2_rear.csv\n",
      "data\\free\\free3\\4_rear.csv\n",
      "data\\free\\free3\\6_rear.csv\n",
      "data\\free\\free4\\2_rear.csv\n",
      "data\\free\\free4\\4_rear.csv\n",
      "data\\free\\free4\\6_rear.csv\n",
      "data\\free\\free5\\2_rear.csv\n",
      "data\\free\\free5\\4_rear.csv\n",
      "data\\free\\free5\\6_rear.csv\n",
      "data\\free\\free6\\12.csv\n",
      "data\\free\\free6\\4.csv\n",
      "data\\free\\free6\\8.csv\n",
      "data\\free\\free7\\1.csv\n",
      "data\\free\\free7\\4.csv\n",
      "data\\free\\free7\\8.csv\n",
      "data\\free\\free8\\10.csv\n",
      "data\\free\\free8\\4.csv\n",
      "data\\free\\free8\\8.csv\n",
      "data\\free\\free9\\12.csv\n",
      "data\\free\\free9\\4.csv\n",
      "data\\free\\free9\\8.csv\n",
      "False\n"
     ]
    }
   ],
   "source": [
    "# Hyperparameters\n",
    "TIME_STEP = 10\n",
    "STRIDE = 2\n",
    "INPUT_SIZE = 24\n",
    "OUTPUT_SIZE = 1\n",
    "BATCH_SIZE = 64\n",
    "HIDDEN_LAYER_SIZE = 128\n",
    "EPOCHS = 200\n",
    "LEARNING_RATE = 0.001\n",
    "\n",
    "# path and filename to save trained model\n",
    "OUTPUT_FILENAME = 'model/free_1.pth'\n",
    "\n",
    "# path to dataset\n",
    "DATA_PATH = 'data'\n",
    "\n",
    "# selecting columns from dataset csv file\n",
    "x_features = [i for i in range(24)]\n",
    "y_features = [48]\n",
    "\n",
    "csv_file_paths = glob.glob(f'{DATA_PATH}/**/*.csv', recursive=True)\n",
    "for path in csv_file_paths:\n",
    "    print(path)\n",
    "\n",
    "cuda_available = torch.cuda.is_available()\n",
    "print(cuda_available)"
   ]
  },
  {
   "cell_type": "code",
   "execution_count": 64,
   "metadata": {},
   "outputs": [],
   "source": [
    "def preprocess_file(file_path,  time_steps):\n",
    "    data = pd.read_csv(file_path)\n",
    "    X_features = data.values[:, x_features]\n",
    "    y_target = data.values[:, y_features]\n",
    "    X, y = create_dataset(X_features, y_target, time_steps)\n",
    "    return X, y\n",
    "\n",
    "def create_dataset(X, y, time_steps, stride=STRIDE):\n",
    "    Xs, ys = [], []\n",
    "    for i in range(0, len(X) - time_steps, stride):  # i의 증가량을 stride로 조정 -> sequence에서 시작 index를 stride 숫자씩 옮겨가며 시작 index ~ index + time_step만큼의 열을 추출\n",
    "        v = X[i:(i + time_steps)]   # input feature data sequence\n",
    "        Xs.append(v)\n",
    "        ys.append(y[i + time_steps])\n",
    "\n",
    "    return np.array(Xs), np.array(ys)\n",
    "\n",
    "def load_and_process_data(file_paths, time_steps, batch_size=16):\n",
    "    all_X, all_y = [], []\n",
    "    \n",
    "    for file_path in file_paths:\n",
    "        # 파일별 데이터 처리\n",
    "        X, y = preprocess_file(file_path, time_steps)\n",
    "        all_X.append(X)\n",
    "        all_y.append(y)\n",
    "    \n",
    "    # 모든 데이터를 하나로 합침\n",
    "    combined_X = np.concatenate(all_X, axis=0)\n",
    "    combined_y = np.concatenate(all_y, axis=0)\n",
    "    \n",
    "    # 데이터 분할\n",
    "    X_train, X_val, y_train, y_val = train_test_split(\n",
    "        combined_X, combined_y, test_size=0.1, random_state=42)\n",
    "    \n",
    "    # DataLoader 생성\n",
    "    train_loader = DataLoader(TensorDataset(\n",
    "        torch.tensor(X_train, dtype=torch.float32),\n",
    "        torch.tensor(y_train, dtype=torch.float32)),\n",
    "        batch_size=batch_size,\n",
    "        shuffle=True)\n",
    "    val_loader = DataLoader(TensorDataset(\n",
    "        torch.tensor(X_val, dtype=torch.float32),\n",
    "        torch.tensor(y_val, dtype=torch.float32)),\n",
    "        batch_size=batch_size,\n",
    "        shuffle=False)\n",
    "    \n",
    "    return train_loader, val_loader\n",
    "\n",
    "def create_final_loaders(csv_file_paths, time_steps, batch_size):\n",
    "    # csv_file_paths 분할\n",
    "    subsets = [csv_file_paths[x:x+100] for x in range(0, len(csv_file_paths), 100)]\n",
    "\n",
    "    # 각 서브셋에 대한 DataLoader 리스트 초기화\n",
    "    train_loaders = []\n",
    "    valid_loaders = []\n",
    "\n",
    "    # 각 서브셋에 대해 DataLoader 생성 및 리스트에 추가\n",
    "    for subset in subsets:\n",
    "        train_loader, valid_loader = load_and_process_data(\n",
    "            subset,\n",
    "            time_steps=time_steps,\n",
    "            batch_size=batch_size)\n",
    "        train_loaders.append(train_loader)\n",
    "        valid_loaders.append(valid_loader)\n",
    "\n",
    "    # DataLoader들을 합친 최종 DataLoader 생성\n",
    "    final_train_loader = DataLoader(ConcatDataset(\n",
    "        [loader.dataset for loader in train_loaders]),\n",
    "        batch_size=batch_size,\n",
    "        shuffle=True)\n",
    "    final_valid_loader = DataLoader(ConcatDataset(\n",
    "        [loader.dataset for loader in valid_loaders]),\n",
    "        batch_size=batch_size,\n",
    "        shuffle=False)\n",
    "\n",
    "    return final_train_loader, final_valid_loader\n",
    "\n",
    "trainloader, validloader = create_final_loaders(\n",
    "    csv_file_paths, time_steps=TIME_STEP, batch_size=BATCH_SIZE)"
   ]
  },
  {
   "cell_type": "code",
   "execution_count": null,
   "metadata": {},
   "outputs": [
    {
     "name": "stderr",
     "output_type": "stream",
     "text": [
      "Epoch 1/200 Training: 100%|███████████████████████████████████████████████████████████████| 297/297 [00:04<00:00, 66.83it/s]\n"
     ]
    },
    {
     "name": "stdout",
     "output_type": "stream",
     "text": [
      "Epoch 1, Training Loss: 2.5280545249108815e-05\n"
     ]
    },
    {
     "name": "stderr",
     "output_type": "stream",
     "text": [
      "Epoch 1/200 Validation: 100%|██████████████████████████████████████████████████████████████| 33/33 [00:00<00:00, 236.30it/s]\n"
     ]
    },
    {
     "name": "stdout",
     "output_type": "stream",
     "text": [
      "Epoch 1, Validation RMSE: 0.0032860108891106916\n",
      "New best model with RMSE: 0.0032860108891106916, saving model...\n"
     ]
    },
    {
     "name": "stderr",
     "output_type": "stream",
     "text": [
      "Epoch 2/200 Training: 100%|███████████████████████████████████████████████████████████████| 297/297 [00:04<00:00, 66.80it/s]\n"
     ]
    },
    {
     "name": "stdout",
     "output_type": "stream",
     "text": [
      "Epoch 2, Training Loss: 1.086608614573976e-05\n"
     ]
    },
    {
     "name": "stderr",
     "output_type": "stream",
     "text": [
      "Epoch 3/200 Training: 100%|███████████████████████████████████████████████████████████████| 297/297 [00:04<00:00, 64.53it/s]\n"
     ]
    },
    {
     "name": "stdout",
     "output_type": "stream",
     "text": [
      "Epoch 3, Training Loss: 9.786057184995265e-06\n"
     ]
    },
    {
     "name": "stderr",
     "output_type": "stream",
     "text": [
      "Epoch 4/200 Training: 100%|███████████████████████████████████████████████████████████████| 297/297 [00:04<00:00, 66.35it/s]\n"
     ]
    },
    {
     "name": "stdout",
     "output_type": "stream",
     "text": [
      "Epoch 4, Training Loss: 9.42862629084697e-06\n"
     ]
    },
    {
     "name": "stderr",
     "output_type": "stream",
     "text": [
      "Epoch 5/200 Training: 100%|███████████████████████████████████████████████████████████████| 297/297 [00:04<00:00, 65.07it/s]\n"
     ]
    },
    {
     "name": "stdout",
     "output_type": "stream",
     "text": [
      "Epoch 5, Training Loss: 9.345292439338847e-06\n"
     ]
    },
    {
     "name": "stderr",
     "output_type": "stream",
     "text": [
      "Epoch 6/200 Training: 100%|███████████████████████████████████████████████████████████████| 297/297 [00:04<00:00, 65.81it/s]\n"
     ]
    },
    {
     "name": "stdout",
     "output_type": "stream",
     "text": [
      "Epoch 6, Training Loss: 8.641407247667529e-06\n"
     ]
    },
    {
     "name": "stderr",
     "output_type": "stream",
     "text": [
      "Epoch 6/200 Validation: 100%|██████████████████████████████████████████████████████████████| 33/33 [00:00<00:00, 240.76it/s]\n"
     ]
    },
    {
     "name": "stdout",
     "output_type": "stream",
     "text": [
      "Epoch 6, Validation RMSE: 0.0029253984420475635\n",
      "New best model with RMSE: 0.0029253984420475635, saving model...\n"
     ]
    },
    {
     "name": "stderr",
     "output_type": "stream",
     "text": [
      "Epoch 7/200 Training: 100%|███████████████████████████████████████████████████████████████| 297/297 [00:04<00:00, 65.98it/s]\n"
     ]
    },
    {
     "name": "stdout",
     "output_type": "stream",
     "text": [
      "Epoch 7, Training Loss: 8.846969805487945e-06\n"
     ]
    },
    {
     "name": "stderr",
     "output_type": "stream",
     "text": [
      "Epoch 8/200 Training: 100%|███████████████████████████████████████████████████████████████| 297/297 [00:04<00:00, 65.48it/s]\n"
     ]
    },
    {
     "name": "stdout",
     "output_type": "stream",
     "text": [
      "Epoch 8, Training Loss: 8.495587798300738e-06\n"
     ]
    },
    {
     "name": "stderr",
     "output_type": "stream",
     "text": [
      "Epoch 9/200 Training: 100%|███████████████████████████████████████████████████████████████| 297/297 [00:04<00:00, 65.97it/s]\n"
     ]
    },
    {
     "name": "stdout",
     "output_type": "stream",
     "text": [
      "Epoch 9, Training Loss: 8.031003179701546e-06\n"
     ]
    },
    {
     "name": "stderr",
     "output_type": "stream",
     "text": [
      "Epoch 10/200 Training: 100%|██████████████████████████████████████████████████████████████| 297/297 [00:04<00:00, 65.70it/s]\n"
     ]
    },
    {
     "name": "stdout",
     "output_type": "stream",
     "text": [
      "Epoch 10, Training Loss: 8.078858279846025e-06\n"
     ]
    },
    {
     "name": "stderr",
     "output_type": "stream",
     "text": [
      "Epoch 11/200 Training: 100%|██████████████████████████████████████████████████████████████| 297/297 [00:04<00:00, 65.02it/s]\n"
     ]
    },
    {
     "name": "stdout",
     "output_type": "stream",
     "text": [
      "Epoch 11, Training Loss: 8.128079837596755e-06\n"
     ]
    },
    {
     "name": "stderr",
     "output_type": "stream",
     "text": [
      "Epoch 11/200 Validation: 100%|█████████████████████████████████████████████████████████████| 33/33 [00:00<00:00, 241.58it/s]\n"
     ]
    },
    {
     "name": "stdout",
     "output_type": "stream",
     "text": [
      "Epoch 11, Validation RMSE: 0.0027822732826638403\n",
      "New best model with RMSE: 0.0027822732826638403, saving model...\n"
     ]
    },
    {
     "name": "stderr",
     "output_type": "stream",
     "text": [
      "Epoch 12/200 Training: 100%|██████████████████████████████████████████████████████████████| 297/297 [00:04<00:00, 65.94it/s]\n"
     ]
    },
    {
     "name": "stdout",
     "output_type": "stream",
     "text": [
      "Epoch 12, Training Loss: 7.7245149900637e-06\n"
     ]
    },
    {
     "name": "stderr",
     "output_type": "stream",
     "text": [
      "Epoch 13/200 Training: 100%|██████████████████████████████████████████████████████████████| 297/297 [00:04<00:00, 65.78it/s]\n"
     ]
    },
    {
     "name": "stdout",
     "output_type": "stream",
     "text": [
      "Epoch 13, Training Loss: 7.6186957485088566e-06\n"
     ]
    },
    {
     "name": "stderr",
     "output_type": "stream",
     "text": [
      "Epoch 14/200 Training: 100%|██████████████████████████████████████████████████████████████| 297/297 [00:04<00:00, 65.95it/s]\n"
     ]
    },
    {
     "name": "stdout",
     "output_type": "stream",
     "text": [
      "Epoch 14, Training Loss: 7.65375089888731e-06\n"
     ]
    },
    {
     "name": "stderr",
     "output_type": "stream",
     "text": [
      "Epoch 15/200 Training: 100%|██████████████████████████████████████████████████████████████| 297/297 [00:04<00:00, 64.68it/s]\n"
     ]
    },
    {
     "name": "stdout",
     "output_type": "stream",
     "text": [
      "Epoch 15, Training Loss: 7.079903501931516e-06\n"
     ]
    },
    {
     "name": "stderr",
     "output_type": "stream",
     "text": [
      "Epoch 16/200 Training: 100%|██████████████████████████████████████████████████████████████| 297/297 [00:04<00:00, 64.32it/s]\n"
     ]
    },
    {
     "name": "stdout",
     "output_type": "stream",
     "text": [
      "Epoch 16, Training Loss: 6.969411071426759e-06\n"
     ]
    },
    {
     "name": "stderr",
     "output_type": "stream",
     "text": [
      "Epoch 16/200 Validation: 100%|█████████████████████████████████████████████████████████████| 33/33 [00:00<00:00, 242.26it/s]\n"
     ]
    },
    {
     "name": "stdout",
     "output_type": "stream",
     "text": [
      "Epoch 16, Validation RMSE: 0.0028320496238655214\n"
     ]
    },
    {
     "name": "stderr",
     "output_type": "stream",
     "text": [
      "Epoch 17/200 Training: 100%|██████████████████████████████████████████████████████████████| 297/297 [00:04<00:00, 64.71it/s]\n"
     ]
    },
    {
     "name": "stdout",
     "output_type": "stream",
     "text": [
      "Epoch 17, Training Loss: 7.068376716898128e-06\n"
     ]
    },
    {
     "name": "stderr",
     "output_type": "stream",
     "text": [
      "Epoch 18/200 Training: 100%|██████████████████████████████████████████████████████████████| 297/297 [00:04<00:00, 65.29it/s]\n"
     ]
    },
    {
     "name": "stdout",
     "output_type": "stream",
     "text": [
      "Epoch 18, Training Loss: 7.022077324283527e-06\n"
     ]
    },
    {
     "name": "stderr",
     "output_type": "stream",
     "text": [
      "Epoch 19/200 Training: 100%|██████████████████████████████████████████████████████████████| 297/297 [00:04<00:00, 65.70it/s]\n"
     ]
    },
    {
     "name": "stdout",
     "output_type": "stream",
     "text": [
      "Epoch 19, Training Loss: 6.851619534064727e-06\n"
     ]
    },
    {
     "name": "stderr",
     "output_type": "stream",
     "text": [
      "Epoch 20/200 Training: 100%|██████████████████████████████████████████████████████████████| 297/297 [00:04<00:00, 66.26it/s]\n"
     ]
    },
    {
     "name": "stdout",
     "output_type": "stream",
     "text": [
      "Epoch 20, Training Loss: 6.757845569142348e-06\n"
     ]
    },
    {
     "name": "stderr",
     "output_type": "stream",
     "text": [
      "Epoch 21/200 Training: 100%|██████████████████████████████████████████████████████████████| 297/297 [00:04<00:00, 64.98it/s]\n"
     ]
    },
    {
     "name": "stdout",
     "output_type": "stream",
     "text": [
      "Epoch 21, Training Loss: 6.5971881730568904e-06\n"
     ]
    },
    {
     "name": "stderr",
     "output_type": "stream",
     "text": [
      "Epoch 21/200 Validation: 100%|█████████████████████████████████████████████████████████████| 33/33 [00:00<00:00, 238.25it/s]\n"
     ]
    },
    {
     "name": "stdout",
     "output_type": "stream",
     "text": [
      "Epoch 21, Validation RMSE: 0.0030874195226439924\n"
     ]
    },
    {
     "name": "stderr",
     "output_type": "stream",
     "text": [
      "Epoch 22/200 Training: 100%|██████████████████████████████████████████████████████████████| 297/297 [00:04<00:00, 63.63it/s]\n"
     ]
    },
    {
     "name": "stdout",
     "output_type": "stream",
     "text": [
      "Epoch 22, Training Loss: 6.331844289631746e-06\n"
     ]
    },
    {
     "name": "stderr",
     "output_type": "stream",
     "text": [
      "Epoch 23/200 Training: 100%|██████████████████████████████████████████████████████████████| 297/297 [00:04<00:00, 63.86it/s]\n"
     ]
    },
    {
     "name": "stdout",
     "output_type": "stream",
     "text": [
      "Epoch 23, Training Loss: 6.258791370825873e-06\n"
     ]
    },
    {
     "name": "stderr",
     "output_type": "stream",
     "text": [
      "Epoch 24/200 Training:  40%|████████████████████████▊                                     | 119/297 [00:01<00:02, 65.19it/s]"
     ]
    }
   ],
   "source": [
    "# 모델 초기화\n",
    "model = LSTMModel(input_size=INPUT_SIZE, hidden_layer_size=HIDDEN_LAYER_SIZE, output_size=OUTPUT_SIZE)\n",
    "\n",
    "# Assuming cuda_available is defined\n",
    "if cuda_available:\n",
    "    model.cuda()\n",
    "\n",
    "epochs = EPOCHS\n",
    "best_val_rmse = float('inf')\n",
    "early_stopping_patience = 10\n",
    "patience_counter = 0\n",
    "\n",
    "criterion = nn.MSELoss()\n",
    "optimizer = torch.optim.Adam(model.parameters(), lr=LEARNING_RATE)\n",
    "scheduler = torch.optim.lr_scheduler.ReduceLROnPlateau(optimizer, mode='min', factor=0.5, patience=5)\n",
    "\n",
    "for epoch in range(epochs):\n",
    "    model.train()\n",
    "    train_loss = 0\n",
    "    for X_batch, y_batch in tqdm(trainloader, desc=f\"Epoch {epoch + 1}/{epochs} Training\"):\n",
    "        if cuda_available:\n",
    "            X_batch, y_batch = X_batch.cuda(), y_batch.cuda()\n",
    "\n",
    "        optimizer.zero_grad()\n",
    "        y_pred = model(X_batch)\n",
    "        loss = criterion(y_pred, y_batch)\n",
    "        loss.backward()\n",
    "\n",
    "        # Gradient Clipping\n",
    "        torch.nn.utils.clip_grad_norm_(model.parameters(), max_norm=1.0)\n",
    "\n",
    "        optimizer.step()\n",
    "        train_loss += loss.item()\n",
    "\n",
    "    # Run validation every `validation_frequency` epochs\n",
    "    validation_frequency = 5\n",
    "    if epoch % validation_frequency == 0 or epoch == epochs - 1:\n",
    "        model.eval()\n",
    "        val_rmse = []\n",
    "        y_preds, y_actuals = [], []\n",
    "\n",
    "        with torch.no_grad():\n",
    "            for X_batch, y_batch in tqdm(validloader, desc=f\"Epoch {epoch + 1}/{epochs} Validation\"):\n",
    "                if cuda_available:\n",
    "                    X_batch, y_batch = X_batch.cuda(), y_batch.cuda()\n",
    "\n",
    "                y_pred = model(X_batch)\n",
    "                rmse = torch.sqrt(criterion(y_pred, y_batch)).cpu().item()\n",
    "                val_rmse.append(rmse)\n",
    "\n",
    "                if len(y_preds) == 0:\n",
    "                    y_preds = y_pred.cpu().numpy()\n",
    "                    y_actuals = y_batch.cpu().numpy()\n",
    "                else:\n",
    "                    y_preds = np.vstack((y_preds, y_pred.cpu().numpy()))\n",
    "                    y_actuals = np.vstack((y_actuals, y_batch.cpu().numpy()))\n",
    "\n",
    "        epoch_val_rmse = np.mean(val_rmse)\n",
    "        print(f\"Epoch {epoch + 1}, Validation RMSE: {epoch_val_rmse}\")\n",
    "\n",
    "        scheduler.step(epoch_val_rmse)  # Update learning rate\n",
    "\n",
    "        if epoch_val_rmse < best_val_rmse:\n",
    "            best_val_rmse = epoch_val_rmse\n",
    "            patience_counter = 0\n",
    "            print(f\"New best model with RMSE: {best_val_rmse}, saving model...\")\n",
    "            torch.save(model.state_dict(), OUTPUT_FILENAME)\n",
    "        else:\n",
    "            patience_counter += 1\n",
    "\n",
    "        if patience_counter >= early_stopping_patience:\n",
    "            print(f\"Early stopping at epoch {epoch + 1} with best RMSE: {best_val_rmse}\")\n",
    "            break"
   ]
  },
  {
   "cell_type": "code",
   "execution_count": 35,
   "metadata": {},
   "outputs": [
    {
     "name": "stderr",
     "output_type": "stream",
     "text": [
      "100%|█████████████████████████████████████████████████████████████████████████████████| 1208/1208 [00:00<00:00, 1332.05it/s]\n"
     ]
    },
    {
     "name": "stdout",
     "output_type": "stream",
     "text": [
      "RMSE avg: 0.003516859098394529\n"
     ]
    },
    {
     "data": {
      "image/png": "[encoded data removed]",
      "text/plain": [
       "<Figure size 640x480 with 1 Axes>"
      ]
     },
     "metadata": {},
     "output_type": "display_data"
    }
   ],
   "source": [
    "import matplotlib.pyplot as plt\n",
    "\n",
    "model.eval()\n",
    "data = pd.read_csv(r'data/free/free1/4_rear.csv') # choice was arbitrary selection from the dataset \n",
    "\n",
    "X = data.values[:,x_features].astype(np.float32)\n",
    "y = data.values[:,y_features].astype(np.float32)\n",
    "y_pred = []\n",
    "\n",
    "error_sum = 0\n",
    "with torch.no_grad():\n",
    "    for i in tqdm(range(X.shape[0]-5)):\n",
    "        t = torch.Tensor(X[i:i+5])\n",
    "        t = t.unsqueeze(0)\n",
    "\n",
    "        ## if you have GPU\n",
    "        if cuda_available:\n",
    "            t = t.cuda()\n",
    "        \n",
    "        pred = model(t)\n",
    "        pred = pred.cpu()\n",
    "        pred = pred.squeeze().cpu()\n",
    "        y_pred.append(pred.numpy())\n",
    "        rmse = np.sqrt(np.sum((y[i] - pred.numpy()) ** 2) / y[i].size)\n",
    "        error_sum += rmse\n",
    "\n",
    "error_sum = error_sum / (X.shape[0]-5)\n",
    "print(f'RMSE avg: {error_sum}')\n",
    "\n",
    "plt.plot(y[5:], label='actual')\n",
    "y_pred_arr = np.array(y_pred)\n",
    "plt.plot(y_pred_arr, label='predicted')\n",
    "plt.legend(loc='best')\n",
    "plt.show(block=True)"
   ]
  },
  {
   "cell_type": "code",
   "execution_count": null,
   "metadata": {},
   "outputs": [],
   "source": []
  }
 ],
 "metadata": {
  "kernelspec": {
   "display_name": "Python 3 (ipykernel)",
   "language": "python",
   "name": "python3"
  },
  "language_info": {
   "codemirror_mode": {
    "name": "ipython",
    "version": 3
   },
   "file_extension": ".py",
   "mimetype": "text/x-python",
   "name": "python",
   "nbconvert_exporter": "python",
   "pygments_lexer": "ipython3",
   "version": "3.12.7"
  }
 },
 "nbformat": 4,
 "nbformat_minor": 4
}
